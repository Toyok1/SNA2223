{
 "cells": [
  {
   "cell_type": "code",
   "execution_count": 1,
   "metadata": {},
   "outputs": [],
   "source": [
    "import pandas as pd"
   ]
  },
  {
   "cell_type": "code",
   "execution_count": 8,
   "metadata": {},
   "outputs": [
    {
     "name": "stdout",
     "output_type": "stream",
     "text": [
      "  track_id  track_pos                       artists   \n",
      "0   1951_0          1                   Nilla Pizzi  \\\n",
      "1   1951_1          2  Nilla Pizzi-Achille Togliani   \n",
      "2   1951_2          3              Achille Togliani   \n",
      "3   1951_3          4   Achille Togliani-Duo Fasano   \n",
      "4   1951_4          5  Nilla Pizzi-Achille Togliani   \n",
      "\n",
      "                    track_name                                writers   \n",
      "0             Grazie dei Fiori  G. C. Testoni- M. Panzeri-S. Seracini  \\\n",
      "1   La luna si veste d'argento                     V. Mascheroni-Biri   \n",
      "2           Serenata a nessuno                                W. Colì   \n",
      "3  Al mercato di Pizzighettone               N. Ravasini-A. Locatelli   \n",
      "4            Eco tra gli abeti                E. Bonagura-C. A. Rossi   \n",
      "\n",
      "  track_votes  \n",
      "0          50  \n",
      "1          30  \n",
      "2          20  \n",
      "3           0  \n",
      "4           0  \n"
     ]
    }
   ],
   "source": [
    "df = pd.read_csv(r'./dataset.csv')\n",
    "print(df.head())\n",
    "\n",
    "df2 = df[[\"track_id\",\"writers\",\"track_name\",\"track_pos\"]]\n",
    "df2_dict = df2.to_dict(orient='records')\n",
    "\n",
    "d = []\n",
    "\n",
    "for f in df2_dict:\n",
    "    d.extend(f[\"writers\"].split(\"-\"))\n",
    "\n",
    "set_d = set([a.strip() for a in d])\n",
    "dict_vett_writers = []\n",
    "support = []\n",
    "#positions = []\n",
    "\n",
    "for writer in set_d:\n",
    "    for d in df2_dict:\n",
    "        if writer in [a.strip() for a in d[\"writers\"].split(\"-\")]:\n",
    "            support.append({\"name\":d[\"track_name\"],\"pos\":d[\"track_pos\"]})\n",
    "            #positions.append(d[\"track_pos\"])\n",
    "    dict_vett_writers.append({\"writer\":writer,\"tracks\":support})\n",
    "    support = []\n",
    "    #positions = []\n",
    "list_edges = []\n",
    "list_weights = []\n",
    "\n",
    "for dic in dict_vett_writers:\n",
    "    for dic2 in dict_vett_writers:\n",
    "        for song in dic[\"tracks\"]:\n",
    "            if song in dic2[\"tracks\"] and dic[\"writer\"] != dic2[\"writer\"]:\n",
    "                if {\"source\":dic[\"writer\"],\"target\":dic2[\"writer\"]} in list_edges:\n",
    "                    index = list_edges.index({\"source\":dic[\"writer\"],\"target\":dic2[\"writer\"]})\n",
    "                    list_weights[index] += 1 + (10-song[\"pos\"])\n",
    "                else:\n",
    "                    list_edges.append({\"source\":dic[\"writer\"],\"target\":dic2[\"writer\"]})\n",
    "                    list_weights.append(1 + (10-song[\"pos\"]))\n",
    "\n",
    "for weight in list_edges:\n",
    "    a = weight[\"source\"]\n",
    "    b = weight[\"target\"]\n",
    "    index = list_edges.index(weight)\n",
    "    #print(a,b,list_weights[index])\n",
    "    try:\n",
    "        list_edges.remove({\"source\":b,\"target\":a})\n",
    "        list_weights.remove(list_weights[index])\n",
    "    except:\n",
    "        pass\n"
   ]
  },
  {
   "cell_type": "code",
   "execution_count": 32,
   "metadata": {},
   "outputs": [],
   "source": [
    "writers = open(\"artisti.csv\",\"w\")\n",
    "writers.write(\"Id\\n\")\n",
    "writers.write('\\n'.join([str(a[\"writer\"]) for a in dict_vett_writers]))\n",
    "writers.close()\n",
    "\n",
    "writersTracks = open(\"artisti_e_canzoni.csv\",\"w\")\n",
    "writersTracks.write(\"Writer,Songs\\n\")\n",
    "writersTracks.write('\\n'.join([str(a[\"writer\"]) + \",\" + str(a[\"tracks\"]) for a in dict_vett_writers]))\n",
    "writersTracks.close()\n",
    "\n",
    "outfile = open(\"edges_list.csv\",\"w\")\n",
    "outfile.write(\"Source,Target,Weigth\\n\")\n",
    "outfile.write('\\n'.join([str(list_edges[i][\"source\"]) + \",\" + str(list_edges[i][\"target\"]) +\",\"+ str(list_weights[i]) for i in range( len(list_edges))]))\n",
    "outfile.close()"
   ]
  }
 ],
 "metadata": {
  "kernelspec": {
   "display_name": "Python 3",
   "language": "python",
   "name": "python3"
  },
  "language_info": {
   "codemirror_mode": {
    "name": "ipython",
    "version": 3
   },
   "file_extension": ".py",
   "mimetype": "text/x-python",
   "name": "python",
   "nbconvert_exporter": "python",
   "pygments_lexer": "ipython3",
   "version": "3.11.0"
  },
  "orig_nbformat": 4
 },
 "nbformat": 4,
 "nbformat_minor": 2
}
