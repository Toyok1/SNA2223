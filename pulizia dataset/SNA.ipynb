{
 "cells": [
  {
   "cell_type": "code",
   "execution_count": 1,
   "metadata": {},
   "outputs": [],
   "source": [
    "import pandas as pd"
   ]
  },
  {
   "cell_type": "code",
   "execution_count": 6,
   "metadata": {},
   "outputs": [
    {
     "ename": "AttributeError",
     "evalue": "'list' object has no attribute 'join'",
     "output_type": "error",
     "traceback": [
      "\u001b[0;31m---------------------------------------------------------------------------\u001b[0m",
      "\u001b[0;31mAttributeError\u001b[0m                            Traceback (most recent call last)",
      "Cell \u001b[0;32mIn[6], line 16\u001b[0m\n\u001b[1;32m     14\u001b[0m                 \u001b[39mif\u001b[39;00m d2 \u001b[39min\u001b[39;00m f[\u001b[39m\"\u001b[39m\u001b[39mwriters\u001b[39m\u001b[39m\"\u001b[39m]:\n\u001b[1;32m     15\u001b[0m                     edges \u001b[39m+\u001b[39m\u001b[39m=\u001b[39m \u001b[39mstr\u001b[39m(d[\u001b[39m\"\u001b[39m\u001b[39mtrack_id\u001b[39m\u001b[39m\"\u001b[39m]) \u001b[39m+\u001b[39m \u001b[39m\"\u001b[39m\u001b[39m \u001b[39m\u001b[39m\"\u001b[39m \u001b[39m+\u001b[39m \u001b[39mstr\u001b[39m(f[\u001b[39m\"\u001b[39m\u001b[39mtrack_id\u001b[39m\u001b[39m\"\u001b[39m]) \u001b[39m+\u001b[39m \u001b[39m'\u001b[39m\u001b[39m\\n\u001b[39;00m\u001b[39m'\u001b[39m\n\u001b[0;32m---> 16\u001b[0m strE \u001b[39m=\u001b[39m \u001b[39mlist\u001b[39;49m(\u001b[39mset\u001b[39;49m(\u001b[39mlist\u001b[39;49m(edges\u001b[39m.\u001b[39;49msplit(\u001b[39m'\u001b[39;49m\u001b[39m\\n\u001b[39;49;00m\u001b[39m'\u001b[39;49m))))\u001b[39m.\u001b[39;49mjoin(\u001b[39m'\u001b[39m\u001b[39m\\n\u001b[39;00m\u001b[39m'\u001b[39m)\n\u001b[1;32m     17\u001b[0m outfile \u001b[39m=\u001b[39m \u001b[39mopen\u001b[39m(\u001b[39m\"\u001b[39m\u001b[39medges_list.txt\u001b[39m\u001b[39m\"\u001b[39m,\u001b[39m\"\u001b[39m\u001b[39mw\u001b[39m\u001b[39m\"\u001b[39m)\n\u001b[1;32m     18\u001b[0m outfile\u001b[39m.\u001b[39mwrite(strE)\n",
      "\u001b[0;31mAttributeError\u001b[0m: 'list' object has no attribute 'join'"
     ]
    }
   ],
   "source": [
    "df = pd.read_csv(r'./dataset.csv')\n",
    "\n",
    "df2 = df[[\"track_id\",\"writers\"]]\n",
    "df2_dict = df2.to_dict(orient='records')\n",
    "\n",
    "for d in df2_dict:\n",
    "    d[\"writers\"] = d[\"writers\"].split(\"-\")\n",
    "\n",
    "edges = \"\"\n",
    "for d in df2_dict:\n",
    "    for f in df2_dict:\n",
    "        if d[\"track_id\"] != f[\"track_id\"]:\n",
    "            for d2 in d[\"writers\"]:\n",
    "                if d2 in f[\"writers\"]:\n",
    "                    edges += str(d[\"track_id\"]) + \" \" + str(f[\"track_id\"]) + '\\n'\n",
    "strE = '\\n'.join(list(set(list(edges.split('\\n')))))\n",
    "outfile = open(\"edges_list.txt\",\"w\")\n",
    "outfile.write(strE)\n",
    "outfile.close()"
   ]
  }
 ],
 "metadata": {
  "kernelspec": {
   "display_name": "Python 3",
   "language": "python",
   "name": "python3"
  },
  "language_info": {
   "codemirror_mode": {
    "name": "ipython",
    "version": 3
   },
   "file_extension": ".py",
   "mimetype": "text/x-python",
   "name": "python",
   "nbconvert_exporter": "python",
   "pygments_lexer": "ipython3",
   "version": "3.10.6"
  },
  "orig_nbformat": 4
 },
 "nbformat": 4,
 "nbformat_minor": 2
}
