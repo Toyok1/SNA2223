{
 "cells": [
  {
   "attachments": {},
   "cell_type": "markdown",
   "metadata": {},
   "source": [
    "Import Packages"
   ]
  },
  {
   "cell_type": "code",
   "execution_count": 6,
   "metadata": {},
   "outputs": [],
   "source": [
    "import pandas as pd\n",
    "import networkx as nx\n",
    "import matplotlib.pyplot as plt"
   ]
  },
  {
   "attachments": {},
   "cell_type": "markdown",
   "metadata": {},
   "source": [
    "Files for Gephi"
   ]
  },
  {
   "cell_type": "code",
   "execution_count": 2,
   "metadata": {},
   "outputs": [
    {
     "name": "stdout",
     "output_type": "stream",
     "text": [
      "985\n"
     ]
    }
   ],
   "source": [
    "df = pd.read_csv(r'./dataset.csv')\n",
    "\n",
    "df2 = df[[\"track_id\",\"writers\",\"track_name\",\"track_pos\"]]\n",
    "df2_dict = df2.to_dict(orient='records')\n",
    "\n",
    "d = []\n",
    "\n",
    "for f in df2_dict:\n",
    "    d.extend(f[\"writers\"].split(\"-\"))\n",
    "\n",
    "set_d = set([a.strip() for a in d])\n",
    "dict_vett_writers = []\n",
    "support = []\n",
    "\n",
    "for writer in set_d:\n",
    "    for d in df2_dict:\n",
    "        if writer in [a.strip() for a in d[\"writers\"].split(\"-\")]:\n",
    "            support.append({\"name\":d[\"track_name\"],\"pos\":d[\"track_pos\"]})\n",
    "    dict_vett_writers.append({\"writer\":writer,\"tracks\":support})\n",
    "    support = []\n",
    "list_edges = []\n",
    "list_weights = []\n",
    "\n",
    "for dic in dict_vett_writers:\n",
    "    for dic2 in dict_vett_writers:\n",
    "        for song in dic[\"tracks\"]:\n",
    "            if song in dic2[\"tracks\"] and dic[\"writer\"] != dic2[\"writer\"]:\n",
    "                if {\"source\":dic[\"writer\"],\"target\":dic2[\"writer\"]} in list_edges:\n",
    "                    index = list_edges.index({\"source\":dic[\"writer\"],\"target\":dic2[\"writer\"]})\n",
    "                    list_weights[index] += (10-song[\"pos\"])\n",
    "                else:\n",
    "                    list_edges.append({\"source\":dic[\"writer\"],\"target\":dic2[\"writer\"]})\n",
    "                    list_weights.append(1 + (10-song[\"pos\"]))\n",
    "\n",
    "for weight in list_edges:\n",
    "    a = weight[\"source\"]\n",
    "    b = weight[\"target\"]\n",
    "    index = list_edges.index(weight)\n",
    "    try:\n",
    "        list_edges.remove({\"source\":b,\"target\":a})\n",
    "        list_weights.remove(list_weights[index])\n",
    "    except:\n",
    "        pass\n",
    "\n",
    "lista =list(set([str(a[\"writer\"]).strip() for a in dict_vett_writers]))\n",
    "print(len(lista))\n",
    "for w in lista:\n",
    "    if w not in [b[\"source\"] for b in list_edges]:\n",
    "        lista.remove(w)\n"
   ]
  },
  {
   "attachments": {},
   "cell_type": "markdown",
   "metadata": {},
   "source": [
    "Creation of the files"
   ]
  },
  {
   "cell_type": "code",
   "execution_count": 8,
   "metadata": {},
   "outputs": [],
   "source": [
    "writers = open(\"artisti.csv\",\"w\")\n",
    "writers.write(\"Id\\n\")\n",
    "writers.write('\\n'.join(lista))\n",
    "writers.close()\n",
    "\n",
    "writersTracks = open(\"artisti_e_canzoni.csv\",\"w\")\n",
    "writersTracks.write(\"Writer,Songs\\n\")\n",
    "writersTracks.write('\\n'.join([str(a[\"writer\"]) + \",\" + str(a[\"tracks\"]) for a in dict_vett_writers]))\n",
    "writersTracks.close()\n",
    "\n",
    "outfile = open(\"edges_list.csv\",\"w\")\n",
    "outfile.write(\"Source,Target,Weight\\n\")\n",
    "outfile.write('\\n'.join([str(list_edges[i][\"source\"]) + \",\" + str(list_edges[i][\"target\"]) +\",\"+ str(list_weights[i]) for i in range( len(list_edges))]))\n",
    "outfile.close()"
   ]
  },
  {
   "attachments": {},
   "cell_type": "markdown",
   "metadata": {},
   "source": [
    "Create a Graph"
   ]
  },
  {
   "cell_type": "code",
   "execution_count": 27,
   "metadata": {},
   "outputs": [
    {
     "name": "stdout",
     "output_type": "stream",
     "text": [
      "k-cliques\n",
      "2  -  134\n",
      "3  -  191\n",
      "4  -  72\n",
      "5  -  25\n",
      "6  -  5\n",
      "7  -  1\n",
      "greedy modularity\n",
      "178\n"
     ]
    }
   ],
   "source": [
    "G = nx.Graph()\n",
    "G.add_nodes_from(lista)\n",
    "ebunch = [(list_edges[i][\"source\"],list_edges[i][\"target\"],{\"weight\":list_weights[i]}) for i in range( len(list_edges))]\n",
    "G.add_edges_from(ebunch)\n",
    "\n",
    "#NUMBER OF k-CLIQUES FOR EACH k BETWEEN 2 AND 7\n",
    "print(\"k-cliques\")\n",
    "for i in range(2,8):\n",
    "    c = list(nx.community.k_clique_communities(G, i))\n",
    "    print(i, \" - \", len(c))\n",
    "    #sorted(list(c[0]))\n",
    "print('\\n')\n",
    "#Find communities in G using greedy modularity maximization.\n",
    "print(\"greedy modularity\")\n",
    "g = nx.community.greedy_modularity_communities(G,\"weight\")\n",
    "print(len(g))\n",
    "\n",
    "\n",
    "\n",
    "#G.edges.data()\n",
    "#G.nodes.data()\n",
    "\n"
   ]
  }
 ],
 "metadata": {
  "kernelspec": {
   "display_name": "Python 3",
   "language": "python",
   "name": "python3"
  },
  "language_info": {
   "codemirror_mode": {
    "name": "ipython",
    "version": 3
   },
   "file_extension": ".py",
   "mimetype": "text/x-python",
   "name": "python",
   "nbconvert_exporter": "python",
   "pygments_lexer": "ipython3",
   "version": "3.11.0"
  },
  "orig_nbformat": 4
 },
 "nbformat": 4,
 "nbformat_minor": 2
}
